{
 "cells": [
  {
   "cell_type": "code",
   "execution_count": 30,
   "metadata": {},
   "outputs": [],
   "source": [
    "# 아래의 딕셔너리 데이터를 참고하여 문제 해결\n",
    "student = {\n",
    "  'name' : 'hong',\n",
    "  'korScore' : 0,\n",
    "  'mathScore' : 0,\n",
    "}"
   ]
  },
  {
   "cell_type": "code",
   "execution_count": 1,
   "metadata": {},
   "outputs": [
    {
     "ename": "NameError",
     "evalue": "name 'student' is not defined",
     "output_type": "error",
     "traceback": [
      "\u001b[1;31m---------------------------------------------------------------------------\u001b[0m",
      "\u001b[1;31mNameError\u001b[0m                                 Traceback (most recent call last)",
      "Cell \u001b[1;32mIn[1], line 2\u001b[0m\n\u001b[0;32m      1\u001b[0m \u001b[38;5;66;03m#1. 위에서 선언한 딕셔너리 데이터의 국어점수 및 수학점수 데이터를 키보드로 입력받은 데이터로 변경하시오\u001b[39;00m\n\u001b[1;32m----> 2\u001b[0m \u001b[43mstudent\u001b[49m[\u001b[38;5;124m'\u001b[39m\u001b[38;5;124mkorScore\u001b[39m\u001b[38;5;124m'\u001b[39m] \u001b[38;5;241m=\u001b[39m \u001b[38;5;28mint\u001b[39m(\u001b[38;5;28minput\u001b[39m(\u001b[38;5;124m'\u001b[39m\u001b[38;5;124m국어점수를 입력하시오 :\u001b[39m\u001b[38;5;124m'\u001b[39m))\n\u001b[0;32m      3\u001b[0m student[\u001b[38;5;124m'\u001b[39m\u001b[38;5;124mmathScore\u001b[39m\u001b[38;5;124m'\u001b[39m] \u001b[38;5;241m=\u001b[39m \u001b[38;5;28mint\u001b[39m(\u001b[38;5;28minput\u001b[39m(\u001b[38;5;124m'\u001b[39m\u001b[38;5;124m수학점수를 입력하시오 :\u001b[39m\u001b[38;5;124m'\u001b[39m))\n\u001b[0;32m      4\u001b[0m \u001b[38;5;28mprint\u001b[39m(student)\n",
      "\u001b[1;31mNameError\u001b[0m: name 'student' is not defined"
     ]
    }
   ],
   "source": [
    "#1. 위에서 선언한 딕셔너리 데이터의 국어점수 및 수학점수 데이터를 키보드로 입력받은 데이터로 변경하시오\n",
    "student['korScore'] = int(input('국어점수를 입력하시오 :'))\n",
    "student['mathScore'] = int(input('수학점수를 입력하시오 :'))\n",
    "print(student)"
   ]
  },
  {
   "cell_type": "code",
   "execution_count": null,
   "metadata": {},
   "outputs": [
    {
     "name": "stdout",
     "output_type": "stream",
     "text": [
      "{'name': 'hong', 'korScore': 50, 'mathScore': 90, 'totalScore': 140}\n"
     ]
    }
   ],
   "source": [
    "#2. 위의 딕셔너리 데이터에 총점(totalScore) 키를 추가하고, value의 값는 국어와 수학점수의 합으로 지정하시오. \n",
    "student['totalScore'] = student['korScore']+student['mathScore']\n",
    "print(student)"
   ]
  },
  {
   "cell_type": "code",
   "execution_count": 1,
   "metadata": {},
   "outputs": [
    {
     "name": "stdout",
     "output_type": "stream",
     "text": [
      "256\n"
     ]
    }
   ],
   "source": [
    "scores = {\n",
    "  'korScore' : 90,\n",
    "  'engScore' : 80,\n",
    "  'mathScore' : 86\n",
    "}\n",
    "# 매개변수로 전달되는 학생점수 객체의 모든점수의 합을 리턴하는 함수를 선언하고 호출해보세요.\n",
    "\n",
    "def scoreSum(scores) :\n",
    "  result = 0\n",
    "  for num in scores : \n",
    "    result = result+scores[num]\n",
    "  return result\n",
    "\n",
    "print (scoreSum(scores))"
   ]
  },
  {
   "cell_type": "code",
   "execution_count": null,
   "metadata": {},
   "outputs": [
    {
     "name": "stdout",
     "output_type": "stream",
     "text": [
      "[2, 4, 10]\n"
     ]
    }
   ],
   "source": [
    "#매개변수로 두리스트가 전달되면 짝수리스트만 리턴하는 함수 ) 중복이없다고 가정하기\n",
    "#첫번째[1,2,5] 두번째[4,7,10]\n",
    "list1 = [1,2,5]\n",
    "list2=[4,7,10]\n",
    "evenList=[]\n",
    "\n",
    "def findEven(a,b) : \n",
    "  sumlist = a+b\n",
    "  for sumCont in sumlist : \n",
    "    if sumCont%2 == 0 :\n",
    "      evenList.append(sumCont)      \n",
    "  return evenList\n",
    "    \n",
    "print(findEven(list1,list2))"
   ]
  },
  {
   "cell_type": "code",
   "execution_count": null,
   "metadata": {},
   "outputs": [],
   "source": [
    "'''\n",
    "매개변수로 전달된 딕셔너리에 key와 value를 추가한 딕셔너리를 리턴하는 함수를 선언하고 호출하세요.\n",
    "첫번째 매개변수 : 딕셔너리\n",
    "두번째 매개변수 : 추가할 key\n",
    "세번째 매개변수 : 추가할 value\n",
    "'''\n",
    "\n",
    "def getDicData(dicData, newKey, newValue):\n",
    "  dicData[newKey] = newValue\n",
    "  return dicData\n"
   ]
  },
  {
   "cell_type": "code",
   "execution_count": null,
   "metadata": {},
   "outputs": [
    {
     "name": "stdout",
     "output_type": "stream",
     "text": [
      "결과{'apple': 5, 'banana': 6, 'orange': 6}\n"
     ]
    }
   ],
   "source": [
    "'''\n",
    "len(문자열)을 사용하여 문자열길이 호가인\n",
    "매개변수 ['apple','banana','orange']\n",
    "결과ㅖ{\n",
    "  'apple':5,\n",
    "  'banana':6,\n",
    "  'orange':6\n",
    "}\n",
    "'''\n",
    "listStrInfo = ['apple','banana','orange']\n",
    "resultDic={}\n",
    "def chekLen(listStr):\n",
    "  for str in listStr:\n",
    "    resultDic[str] = len(str)\n",
    "  return resultDic\n",
    "\n",
    "print (f'결과{chekLen(listStrInfo)}')\n"
   ]
  },
  {
   "cell_type": "code",
   "execution_count": null,
   "metadata": {},
   "outputs": [],
   "source": []
  }
 ],
 "metadata": {
  "kernelspec": {
   "display_name": "Python 3",
   "language": "python",
   "name": "python3"
  },
  "language_info": {
   "codemirror_mode": {
    "name": "ipython",
    "version": 3
   },
   "file_extension": ".py",
   "mimetype": "text/x-python",
   "name": "python",
   "nbconvert_exporter": "python",
   "pygments_lexer": "ipython3",
   "version": "3.13.2"
  }
 },
 "nbformat": 4,
 "nbformat_minor": 2
}
