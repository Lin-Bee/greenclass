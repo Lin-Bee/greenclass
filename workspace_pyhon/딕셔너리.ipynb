{
 "cells": [
  {
   "cell_type": "markdown",
   "metadata": {},
   "source": [
    "## 딕셔너리 (dictionary)\n",
    "### 다수의 데이터를 key와 balue의 한 쌍으로 저장하는 자료형"
   ]
  },
  {
   "cell_type": "code",
   "execution_count": 1,
   "metadata": {},
   "outputs": [
    {
     "name": "stdout",
     "output_type": "stream",
     "text": [
      "{'학번': 201301001, '이름': '이', '점수': 80}\n",
      "{}\n"
     ]
    }
   ],
   "source": [
    "# 딕셔너리 데이터 생성\n",
    "dic1 = {} # 빈 딕셔너리 데이터 생성\n",
    "dic2 = {\n",
    "  '학번' : 201301001,\n",
    "  '이름' : '홍',\n",
    "  '점수' : 80,\n",
    "  '이름' : '이',\n",
    "}\n",
    "print(dic2)\n",
    "print(dic1)"
   ]
  },
  {
   "cell_type": "code",
   "execution_count": 4,
   "metadata": {},
   "outputs": [
    {
     "name": "stdout",
     "output_type": "stream",
     "text": [
      "201301001\n"
     ]
    }
   ],
   "source": [
    "# 딕셔너리 데이터 읽기\n",
    "print(dic2['학번'])"
   ]
  },
  {
   "cell_type": "code",
   "execution_count": null,
   "metadata": {},
   "outputs": [
    {
     "name": "stdout",
     "output_type": "stream",
     "text": [
      "{'modelName': 's20', 'price': 10000, 'color': 'red'}\n",
      "{'modelName': 's20', 'price': 5000, 'color': 'red'}\n"
     ]
    }
   ],
   "source": [
    "phone = {\n",
    "  'modelName' : 's20',\n",
    "  'price' : 10000\n",
    "}\n",
    "# 딕셔너리 데이터 추가\n",
    "phone['color'] = 'red'\n",
    "print(phone)\n",
    "\n",
    "# 딕셔너리 데이터 변경\n",
    "phone['price'] = 5000\n",
    "print(phone)\n"
   ]
  },
  {
   "cell_type": "code",
   "execution_count": null,
   "metadata": {},
   "outputs": [
    {
     "name": "stdout",
     "output_type": "stream",
     "text": [
      "{'brand': 'samsung', 'price': 1000, 'color': 'black'}\n",
      "{'brand': 'samsung', 'price': 1000}\n"
     ]
    }
   ],
   "source": [
    "#딕셔너리 데이터 삭제\n",
    "monitor = {\n",
    "  'brand' : 'samsung',\n",
    "  'price' : 1000,\n",
    "  'color' : 'black'\n",
    "}\n",
    "print(monitor)\n",
    "# 모니터 - 컬러값을 삭제\n",
    "del monitor['color']\n",
    "print(monitor)"
   ]
  },
  {
   "cell_type": "code",
   "execution_count": 15,
   "metadata": {},
   "outputs": [
    {
     "name": "stdout",
     "output_type": "stream",
     "text": [
      "brand = samsung\n",
      "price = 1000\n",
      "color = black\n"
     ]
    }
   ],
   "source": [
    "monitor = {\n",
    "  'brand' : 'samsung',\n",
    "  'price' : 1000,\n",
    "  'color' : 'black'\n",
    "}\n",
    "\n",
    "for e in monitor:\n",
    "  print(f'{e} = {monitor[e]}')"
   ]
  },
  {
   "cell_type": "code",
   "execution_count": null,
   "metadata": {},
   "outputs": [
    {
     "name": "stdout",
     "output_type": "stream",
     "text": [
      "{'이름': '홍길동', '나이': 50, '취미': ['세차', '운동', '등산'], '가족': [{'관계': '아빠', '이름': '홍아빠'}, {'관계': '엄마', '이름': '홍엄마'}]}\n"
     ]
    }
   ],
   "source": [
    "member = {\n",
    "  '이름' : '홍길동',\n",
    "  '나이' : 50,\n",
    "  '취미' : ['세차','운동','등산'],\n",
    "  '가족' : [\n",
    "    {\n",
    "      '관계':'아빠',\n",
    "      '이름':'홍아빠'\n",
    "    },\n",
    "    {\n",
    "      '관계':'엄마',\n",
    "      '이름':'홍엄마'\n",
    "      }\n",
    "    ]\n",
    "}\n",
    "print (member)"
   ]
  },
  {
   "cell_type": "code",
   "execution_count": 36,
   "metadata": {},
   "outputs": [
    {
     "name": "stdout",
     "output_type": "stream",
     "text": [
      "['세차', '운동', '등산']\n",
      "3\n",
      "등산\n",
      "홍아빠\n",
      "{'관계': '엄마', '이름': '홍엄마', '나이': 50}\n"
     ]
    }
   ],
   "source": [
    "#member딕셔너리에서 모든 취미 출력\n",
    "print(member['취미'])\n",
    "#member딕셔너리에서 모든 취미 갯수출력\n",
    "print(len(member['취미']))\n",
    "#member딕셔너리에서 모든 취미 중 마지막취미\n",
    "print((member['취미'][-1]))\n",
    "#member딕셔너리에서 아빠의 이름 출력\n",
    "for i in member['가족'] :\n",
    "  if i['관계'] == '아빠' :\n",
    "    print(i['이름'])\n",
    "#member딕셔너리에서 엄마의 나이 추가\n",
    "for i in member['가족'] :\n",
    "  if i['관계'] == '엄마' :\n",
    "    i['나이'] = 50\n",
    "print((member['가족'][1]))"
   ]
  },
  {
   "cell_type": "code",
   "execution_count": null,
   "metadata": {},
   "outputs": [],
   "source": []
  },
  {
   "cell_type": "code",
   "execution_count": null,
   "metadata": {},
   "outputs": [],
   "source": []
  }
 ],
 "metadata": {
  "kernelspec": {
   "display_name": "Python 3",
   "language": "python",
   "name": "python3"
  },
  "language_info": {
   "codemirror_mode": {
    "name": "ipython",
    "version": 3
   },
   "file_extension": ".py",
   "mimetype": "text/x-python",
   "name": "python",
   "nbconvert_exporter": "python",
   "pygments_lexer": "ipython3",
   "version": "3.13.2"
  }
 },
 "nbformat": 4,
 "nbformat_minor": 2
}
