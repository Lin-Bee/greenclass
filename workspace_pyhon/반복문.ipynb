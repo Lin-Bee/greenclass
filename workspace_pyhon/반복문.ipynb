{
 "cells": [
  {
   "cell_type": "markdown",
   "metadata": {},
   "source": [
    "## 반복문\n",
    "\n",
    "#### 자바랑은 죄금 다른 반복문\n",
    "파이썬은 for-each문만 제공함.(일반 for문 없음)\n",
    "<!-- # 자바의 배열\n",
    "int[] arr = {1,2,3};\n",
    "for(int e : arr){ #arr에 있는걸 e에 넣겠다 map처럼\n",
    "\n",
    "} -->"
   ]
  },
  {
   "cell_type": "code",
   "execution_count": 3,
   "metadata": {},
   "outputs": [
    {
     "name": "stdout",
     "output_type": "stream",
     "text": [
      "반복문 실행1\n",
      "반복문 실행3\n",
      "반복문 실행5\n"
     ]
    }
   ],
   "source": [
    "#for문안의 내용이 어디까지인지 들여쓰기로 판단\n",
    "#for-each문이라서 맵함수같은\n",
    "#자동으로 데이터의수만큼 반복됨\n",
    "for e in [1,3,5] : \n",
    "  print('반복문 실행',end='')\n",
    "  print(e)"
   ]
  },
  {
   "cell_type": "code",
   "execution_count": 13,
   "metadata": {},
   "outputs": [
    {
     "name": "stdout",
     "output_type": "stream",
     "text": [
      "0 반복문 실행\n",
      "1 반복문 실행\n",
      "2 반복문 실행\n",
      "3 반복문 실행\n",
      "0 반복문 실행\n",
      "1 반복문 실행\n",
      "2 반복문 실행\n",
      "3 반복문 실행\n"
     ]
    }
   ],
   "source": [
    "#단순히 특정 횟수만큼 반복실행시킬때는 range()를 사용한다\n",
    "# 아 괄호 대신 : 로 시작하지?\n",
    "for e in range(0,4) : #0~9까지 range(반복숫자시작,마지막숫자(포함안됨))\n",
    "  print(e,end='')\n",
    "  print(' 반복문 실행')\n",
    "\n",
    "#range()함수의\n",
    "for e in range(4) : #0~9까지 range(반복숫자시작,마지막숫자(포함안됨))\n",
    "  print(e,end='')\n",
    "  print(' 반복문 실행')"
   ]
  },
  {
   "cell_type": "code",
   "execution_count": 19,
   "metadata": {},
   "outputs": [
    {
     "name": "stdout",
     "output_type": "stream",
     "text": [
      "i = 0, num = 11\n",
      "i = 1, num = 12\n",
      "i = 2, num = 13\n",
      "i = 3, num = 14\n",
      "i = 4, num = 15\n"
     ]
    }
   ],
   "source": [
    "#반복의 인덱스를 알고 싶다면 enumerate()함수를 사용\n",
    "list1=[11,12,13,14,15]\n",
    "for i, num in enumerate(list1) : \n",
    "  print(f'i = {i}, num = {num}')\n",
    "# (인덱스넘버, list의 cont)"
   ]
  },
  {
   "cell_type": "code",
   "execution_count": null,
   "metadata": {},
   "outputs": [
    {
     "name": "stdout",
     "output_type": "stream",
     "text": [
      "ㅎㅇ\n"
     ]
    }
   ],
   "source": [
    "#번외 - 키보드로 데이터 정수받기\n",
    "inputData = input('정수를 입력하세요 :')\n",
    "print(inputData)"
   ]
  },
  {
   "cell_type": "code",
   "execution_count": null,
   "metadata": {},
   "outputs": [],
   "source": []
  },
  {
   "cell_type": "code",
   "execution_count": null,
   "metadata": {},
   "outputs": [],
   "source": []
  },
  {
   "cell_type": "code",
   "execution_count": null,
   "metadata": {},
   "outputs": [],
   "source": []
  }
 ],
 "metadata": {
  "kernelspec": {
   "display_name": "Python 3",
   "language": "python",
   "name": "python3"
  },
  "language_info": {
   "codemirror_mode": {
    "name": "ipython",
    "version": 3
   },
   "file_extension": ".py",
   "mimetype": "text/x-python",
   "name": "python",
   "nbconvert_exporter": "python",
   "pygments_lexer": "ipython3",
   "version": "3.13.2"
  }
 },
 "nbformat": 4,
 "nbformat_minor": 2
}
