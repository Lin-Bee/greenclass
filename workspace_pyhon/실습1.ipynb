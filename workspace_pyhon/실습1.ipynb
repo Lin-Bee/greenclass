{
 "cells": [
  {
   "cell_type": "code",
   "execution_count": null,
   "metadata": {},
   "outputs": [
    {
     "name": "stdout",
     "output_type": "stream",
     "text": [
      "0\n"
     ]
    }
   ],
   "source": [
    "#문제1 키보드로 정수를 입력받아\n",
    "#     입력받은 정수가 짝수이면 '1'을 출력 홀수면 '2' 출력 0이면 0입니다 출력\n",
    "#result int('10') > 문자열을 정수로 반환해줌\n",
    "num1 = int(input('정수를 입력해주세용 : '))\n",
    "if num1%2 == 0 :  # and num1 != 0 을 추가해서\n",
    "  if num1 == 0 :  # & 혹은 and연산자를 이용해서 풀어줄수도 있음\n",
    "    print(0)\n",
    "  else :\n",
    "    print(1)\n",
    "elif num1%2 != 0 :\n",
    "  print(2)\n"
   ]
  },
  {
   "cell_type": "code",
   "execution_count": null,
   "metadata": {},
   "outputs": [
    {
     "name": "stdout",
     "output_type": "stream",
     "text": [
      "15\n"
     ]
    }
   ],
   "source": [
    "#문제 2 키보드로 정수를 입력받아 0부터 입력받은 수까지의 합을 출력\n",
    "num2 = int(input('정수를 입력해주세용 : '))\n",
    "sum = 0\n",
    "for i in range(num2+1):\n",
    "  sum += i\n",
    "print(sum)"
   ]
  },
  {
   "cell_type": "code",
   "execution_count": 24,
   "metadata": {},
   "outputs": [
    {
     "name": "stdout",
     "output_type": "stream",
     "text": [
      "1*5=5\n",
      "2*5=10\n",
      "3*5=15\n",
      "4*5=20\n",
      "5*5=25\n",
      "6*5=30\n",
      "7*5=35\n",
      "8*5=40\n",
      "9*5=45\n"
     ]
    }
   ],
   "source": [
    "#문제3 키보드로 1~9까지의 정수를 입력받아, 입력받은 숫자의 구구단을 출력\n",
    "num3 = int(input('구구단의 숫자를 입력하시오: '))\n",
    "for e in range(9) :\n",
    "  print (f'{(e+1)}*{num3}={(e+1)*num3}')"
   ]
  }
 ],
 "metadata": {
  "kernelspec": {
   "display_name": "Python 3",
   "language": "python",
   "name": "python3"
  },
  "language_info": {
   "codemirror_mode": {
    "name": "ipython",
    "version": 3
   },
   "file_extension": ".py",
   "mimetype": "text/x-python",
   "name": "python",
   "nbconvert_exporter": "python",
   "pygments_lexer": "ipython3",
   "version": "3.13.2"
  }
 },
 "nbformat": 4,
 "nbformat_minor": 2
}
