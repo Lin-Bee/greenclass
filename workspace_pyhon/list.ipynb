{
 "cells": [
  {
   "cell_type": "markdown",
   "metadata": {},
   "source": [
    "#### 리스트(list)"
   ]
  },
  {
   "cell_type": "code",
   "execution_count": null,
   "metadata": {},
   "outputs": [],
   "source": [
    "#리스트의 생성 자바스크립트의 배열\n",
    "#주의!! 변수명을 절대 list로 선언하지 않을것!!!!!\n",
    "list1=[]\n",
    "list2=[1,2,3]\n",
    "list3=[1,2,'python',[7,8]] # 리스트에 다른 자료형도 저장가능함"
   ]
  },
  {
   "cell_type": "code",
   "execution_count": 9,
   "metadata": {},
   "outputs": [
    {
     "name": "stdout",
     "output_type": "stream",
     "text": [
      "[1, 2, 3]\n",
      "2\n",
      "8\n"
     ]
    }
   ],
   "source": [
    "print(list2)\n",
    "print(list2[1])\n",
    "print(list3[3][1])"
   ]
  },
  {
   "cell_type": "code",
   "execution_count": null,
   "metadata": {
    "vscode": {
     "languageId": "javascript"
    }
   },
   "outputs": [],
   "source": [
    "// 자바스크립트에서 배열에 추가\n",
    "const arr = [1,2,3,4]\n",
    "arr.push(5);"
   ]
  },
  {
   "cell_type": "code",
   "execution_count": null,
   "metadata": {},
   "outputs": [
    {
     "name": "stdout",
     "output_type": "stream",
     "text": [
      "[1, 2, 3]\n",
      "[1, 2, 3, 5]\n",
      "[1, 2, 3, 5, 7]\n",
      "[1, 10, 2, 3, 5, 7]\n"
     ]
    }
   ],
   "source": [
    "# 리스트에 데이터 추가하기\n",
    "# 1. append()함수 사용\n",
    "list1=[1,2,3]\n",
    "print(list1)\n",
    "\n",
    "list1.append(5)\n",
    "print(list1)\n",
    "list1.append(7)\n",
    "print(list1)\n",
    "\n",
    "# 2. insert(위치,데이터)함수 사용 - 지정한 위치에 데이터를 추가\n",
    "list1.insert(1,10) #추가할인덱스\n",
    "print(list1)\n"
   ]
  },
  {
   "cell_type": "code",
   "execution_count": null,
   "metadata": {},
   "outputs": [
    {
     "name": "stdout",
     "output_type": "stream",
     "text": [
      "[1, 2, 4, 5, 3]\n",
      "[1, 2, 4, 5]\n"
     ]
    }
   ],
   "source": [
    "#리스트 데이터의 삭제 \n",
    "list1 = [1,2,3,4,5,3]\n",
    "\n",
    "# --추천방식--\n",
    "# del 명령어 사용 - n번째 게시글삭제\n",
    "del list1[2]\n",
    "print(list1)\n",
    "# del 명령어 사용시 주의사항!!!\n",
    "#del list1 < 리스트1 이라는 변수를 통째로 날리게따!!!\n",
    "\n",
    "#remove(삭제할데이터) - 3을 데이타로 가진거 다없어짐\n",
    "list1.remove(3)\n",
    "print(list1)\n"
   ]
  },
  {
   "cell_type": "code",
   "execution_count": 40,
   "metadata": {},
   "outputs": [
    {
     "name": "stdout",
     "output_type": "stream",
     "text": [
      "[1, 2, 3]\n",
      "[1, 5, 3]\n"
     ]
    }
   ],
   "source": [
    "# 리스트 데이터의 수정\n",
    "list1 = [1,2,3]\n",
    "print(list1)\n",
    "list1[1] = 5\n",
    "print(list1)\n"
   ]
  },
  {
   "cell_type": "code",
   "execution_count": 44,
   "metadata": {},
   "outputs": [
    {
     "name": "stdout",
     "output_type": "stream",
     "text": [
      "[1, 2, 3, 4, 5, 6]\n",
      "[1, 2, 3, 1, 2, 3, 1, 2, 3]\n"
     ]
    }
   ],
   "source": [
    "# 리스트 나열\n",
    "list1 = [1,2,3]+[4,5,6]\n",
    "print(list1)\n",
    "\n",
    "list2 = [1,2,3]*3\n",
    "print(list2)"
   ]
  },
  {
   "cell_type": "code",
   "execution_count": 49,
   "metadata": {},
   "outputs": [
    {
     "name": "stdout",
     "output_type": "stream",
     "text": [
      "[2, 3, 4]\n",
      "[2, 3, 1]\n",
      "[3, 4, 5]\n",
      "[1, 2, 3]\n",
      "[1, 2, 3, 4, 5]\n",
      "[3, 4]\n"
     ]
    }
   ],
   "source": [
    "# 리스트의 슬라이싱 연산 - 일부추출\n",
    "list1 = [1,2,3,4,5]\n",
    "print(list1[1:4]) #[시작인덱스:마지막인덱스(포함x)]\n",
    "print(list2[1:4]) \n",
    "\n",
    "list3=[1,2,3,4,5]\n",
    "print(list3[2:]) # 2번째부터 끝까지\n",
    "print(list3[:3]) # 처음부터 3번째까지\n",
    "print(list3[:]) # 처음부터 끝까지\n",
    "print(list3[2:-1]) # 처음부터 끝까지"
   ]
  },
  {
   "cell_type": "code",
   "execution_count": null,
   "metadata": {},
   "outputs": [
    {
     "name": "stdout",
     "output_type": "stream",
     "text": [
      "대\n",
      "민국 울산\n",
      "052-1111-2222\n"
     ]
    }
   ],
   "source": [
    "#파이썬은 문자열도 list로 취급함\n",
    "addr='대한민국 울산광역시 남구'\n",
    "print(addr[0])\n",
    "print(addr[2:7])\n",
    "\n",
    "#마이너스 인덱스의 사용 예시\n",
    "addrList=[\n",
    "  '스타벅스 삼산지점 052-1111-2222',\n",
    "  '스타벅스 신정동2호점 052-2222-3333',\n",
    "  '스타벅스 울산남구점 052-3333-4444'\n",
    "]\n",
    "#끝에서 몇자리\n",
    "print(addrList[0][-13:])"
   ]
  },
  {
   "cell_type": "code",
   "execution_count": 62,
   "metadata": {},
   "outputs": [
    {
     "name": "stdout",
     "output_type": "stream",
     "text": [
      "[1, 4, 5]\n"
     ]
    }
   ],
   "source": [
    "# 슬라이싱을 사용한 리스트의 데이터 제거\n",
    "list1=[1,2,3,4,5]\n",
    "del list1[1:3]\n",
    "print(list1)"
   ]
  },
  {
   "cell_type": "code",
   "execution_count": 66,
   "metadata": {},
   "outputs": [
    {
     "name": "stdout",
     "output_type": "stream",
     "text": [
      "[1, 7, 8, 4, 5]\n",
      "[1, 9, 10, 5]\n"
     ]
    }
   ],
   "source": [
    "# 슬라이싱을 사용한 데이터 수정\n",
    "list1=[1,2,3,4,5]\n",
    "list1[1:3] = 7,8\n",
    "print(list1)\n",
    "list1[1:4] = 9,10\n",
    "print(list1)"
   ]
  },
  {
   "cell_type": "code",
   "execution_count": 70,
   "metadata": {},
   "outputs": [
    {
     "name": "stdout",
     "output_type": "stream",
     "text": [
      "['python']\n"
     ]
    }
   ],
   "source": [
    "#리스트의 마지막 데이터 찾기\n",
    "list2=[3,8,'java',10,'python']\n",
    "print(list2[-1:])"
   ]
  }
 ],
 "metadata": {
  "kernelspec": {
   "display_name": "Python 3",
   "language": "python",
   "name": "python3"
  },
  "language_info": {
   "codemirror_mode": {
    "name": "ipython",
    "version": 3
   },
   "file_extension": ".py",
   "mimetype": "text/x-python",
   "name": "python",
   "nbconvert_exporter": "python",
   "pygments_lexer": "ipython3",
   "version": "3.13.2"
  }
 },
 "nbformat": 4,
 "nbformat_minor": 2
}
