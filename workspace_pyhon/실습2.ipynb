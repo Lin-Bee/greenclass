{
 "cells": [
  {
   "cell_type": "code",
   "execution_count": null,
   "metadata": {},
   "outputs": [],
   "source": [
    "#max라는 변수를 이미 사용해서 발생해 버린 문제\n",
    "#del max"
   ]
  },
  {
   "cell_type": "code",
   "execution_count": 36,
   "metadata": {},
   "outputs": [
    {
     "name": "stdout",
     "output_type": "stream",
     "text": [
      "10\n",
      "3\n",
      "10\n"
     ]
    }
   ],
   "source": [
    "#1. 다음 리스트에서 최대값을 구하시오.\n",
    "list1 = [3, 10, 8, 7, 5]\n",
    "\n",
    "data = max(list1)\n",
    "data2 = min(list1)\n",
    "print(data) #10\n",
    "print(data2) #3\n",
    "\n",
    "maxNum = list1[0]\n",
    "for e in list1 : \n",
    "  if maxNum < e :\n",
    "    maxNum = e\n",
    "    \n",
    "print(maxNum)"
   ]
  },
  {
   "cell_type": "code",
   "execution_count": 6,
   "metadata": {},
   "outputs": [
    {
     "name": "stdout",
     "output_type": "stream",
     "text": [
      "54\n",
      "54\n"
     ]
    }
   ],
   "source": [
    "#2. 다음 두 리스트에 존재하는 모든 요소의 합을 구하시오.\n",
    "list2 = [1, 3, 5]\n",
    "list3 = [10, 15, 20]\n",
    "\n",
    "iSum = 0 # list2의sum\n",
    "jSum = 0 # list3의sum\n",
    "for i in list2 : \n",
    "  iSum = iSum+i\n",
    "for j in list3 : \n",
    "  jSum+= j\n",
    "\n",
    "print(iSum+jSum)\n",
    "\n",
    "#혹은\n",
    "listSum = list2+list3\n",
    "sSum = 0\n",
    "for i in listSum : \n",
    "  sSum = sSum+i\n",
    "print(sSum)"
   ]
  },
  {
   "cell_type": "code",
   "execution_count": 57,
   "metadata": {},
   "outputs": [
    {
     "name": "stdout",
     "output_type": "stream",
     "text": [
      "[1, 5]\n"
     ]
    }
   ],
   "source": [
    "#3. 입력받은 정수의 약수를 모두 출력하세요\n",
    "#ex> 입력 10 -> 1, 2, 5, 10\n",
    "num0 = int(input('정수를 입력해주세요 :'))\n",
    "listmeasure = []\n",
    "\n",
    "for i in range(1,num0+1) : \n",
    "  if num0 % i == 0 :\n",
    "    listmeasure.append(i)\n",
    "\n",
    "print (listmeasure)"
   ]
  },
  {
   "cell_type": "code",
   "execution_count": null,
   "metadata": {},
   "outputs": [
    {
     "name": "stdout",
     "output_type": "stream",
     "text": [
      "[8, 10, 12]\n",
      "[16, 18, 6]\n",
      "[6, 6, 6]\n"
     ]
    }
   ],
   "source": [
    "#4. 키보드로 입력받은 세 정수 * 2한 값을 요소로 갖는 리스트를 생성하고 출력하세요.\n",
    "#ex> 입력 : 1,5,10 -> 결과 : [2, 10, 20]\n",
    "num1 = int(input('1번 정수를 입력해주세요 :'))\n",
    "num2 = int(input('2번 정수를 입력해주세요 :'))\n",
    "num3 = int(input('3번 정수를 입력해주세요 :'))\n",
    "\n",
    "list4 = [num1*2,num2*2,num3*2]\n",
    "print (list4)\n",
    "\n",
    "#혹은\n",
    "list5 = []\n",
    "for i in range(3) :\n",
    "  number = int(input(f'{i+1}번 정수를 입력해주세요 :'))\n",
    "  list5.append((number)*2)\n",
    "print(list5)"
   ]
  },
  {
   "cell_type": "code",
   "execution_count": 90,
   "metadata": {},
   "outputs": [
    {
     "name": "stdout",
     "output_type": "stream",
     "text": [
      "3\n"
     ]
    }
   ],
   "source": [
    "#5. 다음의 데이터에서 't' 의 갯수를 구하시오.\n",
    "#힌트 : 파이썬은 문자열도 리스트이기에 반복문을 사용할 수 있음\n",
    "data = ['brother', 'mother', 'sister']\n",
    "cnt = 0\n",
    "\n",
    "for cont in data : \n",
    "  for cntt in cont : \n",
    "    if cntt == 't' :\n",
    "      cnt += 1\n",
    "print(cnt)\n"
   ]
  }
 ],
 "metadata": {
  "kernelspec": {
   "display_name": "Python 3",
   "language": "python",
   "name": "python3"
  },
  "language_info": {
   "codemirror_mode": {
    "name": "ipython",
    "version": 3
   },
   "file_extension": ".py",
   "mimetype": "text/x-python",
   "name": "python",
   "nbconvert_exporter": "python",
   "pygments_lexer": "ipython3",
   "version": "3.13.2"
  }
 },
 "nbformat": 4,
 "nbformat_minor": 2
}
