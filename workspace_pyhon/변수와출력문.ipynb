{
 "cells": [
  {
   "cell_type": "markdown",
   "metadata": {},
   "source": [
    "### 파이썬\n",
    "#### 변수과 출력문\n",
    "1. 파이썬의 출력문"
   ]
  },
  {
   "cell_type": "code",
   "execution_count": null,
   "metadata": {},
   "outputs": [
    {
     "name": "stdout",
     "output_type": "stream",
     "text": [
      "고기\n",
      "sori\n"
     ]
    }
   ],
   "source": [
    "#파이썬은 명령어마지막에 ; 안붙임 > 붙여도 오류안남\n",
    "#파이썬의 출력문의 print()함수를사용한다\n",
    "sori = '고기'\n",
    "print(sori)\n",
    "print(10)\n",
    "print('10')\n",
    "print(\"sori\")"
   ]
  },
  {
   "cell_type": "code",
   "execution_count": null,
   "metadata": {},
   "outputs": [
    {
     "name": "stdout",
     "output_type": "stream",
     "text": [
      "8\n",
      "2.5\n",
      "2\n",
      "1\n",
      "PYTHONJAVA\n",
      "PYTHON 5\n"
     ]
    }
   ],
   "source": [
    "#파이썬의 연산 결과 출력\n",
    "print(5+3)    #파이썬은 변수의 머리의 개념이 없어서\n",
    "print(10/4)   #연산결과가 실수면 실수로 나옴 \n",
    "\n",
    "print(10//4)  # 몫만 구하기\n",
    "print(9%4)    #나머지만 구하기\n",
    "print('PYTHON'+'JAVA')    #문자+문자 숫자_+숫자가능, 문자+숫자안됨\n"
   ]
  },
  {
   "cell_type": "code",
   "execution_count": null,
   "metadata": {},
   "outputs": [
    {
     "name": "stdout",
     "output_type": "stream",
     "text": [
      "10 20 30 python\n",
      "1\n",
      "1"
     ]
    }
   ],
   "source": [
    "#python의 또다른 출력기능\n",
    "print(10,20,30,'python')\n",
    "\n",
    "# \\n 한줄개행하기\n",
    "# print()함수의 두번째 end 매개변수에 값을 지정하면\n",
    "# 출력 후 실행할 내용을 변경 할 수 있다.\n",
    "#end를 작성하지 않으면 default값으로 end='\\n'이 들어가있다.\n",
    "print(1,end='\\n')\n",
    "print(1,end='')"
   ]
  },
  {
   "cell_type": "markdown",
   "metadata": {},
   "source": [
    "### 2.파이썬의 변수"
   ]
  },
  {
   "cell_type": "code",
   "execution_count": null,
   "metadata": {},
   "outputs": [
    {
     "name": "stdout",
     "output_type": "stream",
     "text": [
      "10\n",
      "20\n"
     ]
    }
   ],
   "source": [
    "#파이썬의 변수는 내부적으로만 자료형이 존재.\n",
    "#변수를 선언할때는 자료형은 작성하지 않음\n",
    "\n",
    "#변수의 선언및 초기화\n",
    "num1 = 10 \n",
    "print(num1)"
   ]
  },
  {
   "cell_type": "code",
   "execution_count": 19,
   "metadata": {},
   "outputs": [
    {
     "name": "stdout",
     "output_type": "stream",
     "text": [
      "10\n"
     ]
    }
   ],
   "source": [
    "print(num1)"
   ]
  },
  {
   "cell_type": "code",
   "execution_count": null,
   "metadata": {},
   "outputs": [
    {
     "name": "stdout",
     "output_type": "stream",
     "text": [
      "나이는30, 주소는 울산시이다\n"
     ]
    }
   ],
   "source": [
    "age=30\n",
    "addr=\"울산시\"\n",
    "#자바스크립트의 ` 과 같은 기능이있음\n",
    "#전체문자의 맨앞에 f문자입력\n",
    "print(f'나이는{age}, 주소는{addr}이다')"
   ]
  },
  {
   "cell_type": "code",
   "execution_count": 29,
   "metadata": {},
   "outputs": [
    {
     "name": "stdout",
     "output_type": "stream",
     "text": [
      "20\n",
      "<class 'int'>\n",
      "10.5\n",
      "<class 'float'>\n",
      "python\n",
      "<class 'str'>\n"
     ]
    }
   ],
   "source": [
    "#파이썬은 내부적으로는 변수마다 자료형이존재한다\n",
    "num2= 20\n",
    "num3=10.5\n",
    "strData='python'\n",
    "\n",
    "#type()함수의 매개변수에 변수를 전달하면\n",
    "print(num2)\n",
    "print(type(num2))\n",
    "print(num3)\n",
    "print(type(num3))\n",
    "print(strData)\n",
    "print(type(strData))"
   ]
  },
  {
   "cell_type": "code",
   "execution_count": null,
   "metadata": {},
   "outputs": [],
   "source": []
  },
  {
   "cell_type": "code",
   "execution_count": null,
   "metadata": {},
   "outputs": [],
   "source": []
  }
 ],
 "metadata": {
  "kernelspec": {
   "display_name": "Python 3",
   "language": "python",
   "name": "python3"
  },
  "language_info": {
   "codemirror_mode": {
    "name": "ipython",
    "version": 3
   },
   "file_extension": ".py",
   "mimetype": "text/x-python",
   "name": "python",
   "nbconvert_exporter": "python",
   "pygments_lexer": "ipython3",
   "version": "3.13.2"
  }
 },
 "nbformat": 4,
 "nbformat_minor": 2
}
